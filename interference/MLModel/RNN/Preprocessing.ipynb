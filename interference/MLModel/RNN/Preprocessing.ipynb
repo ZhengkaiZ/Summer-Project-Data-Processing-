{
 "cells": [
  {
   "cell_type": "code",
   "execution_count": 2,
   "metadata": {},
   "outputs": [
    {
     "ename": "ImportError",
     "evalue": "cannot import name 'Set'",
     "output_type": "error",
     "traceback": [
      "\u001b[0;31m---------------------------------------------------------------------------\u001b[0m",
      "\u001b[0;31mImportError\u001b[0m                               Traceback (most recent call last)",
      "\u001b[0;32m<ipython-input-2-a04c4dca181f>\u001b[0m in \u001b[0;36m<module>\u001b[0;34m()\u001b[0m\n\u001b[1;32m      1\u001b[0m \u001b[0;32mimport\u001b[0m \u001b[0mdatetime\u001b[0m\u001b[0;34m\u001b[0m\u001b[0m\n\u001b[1;32m      2\u001b[0m \u001b[0;32mimport\u001b[0m \u001b[0mRecover\u001b[0m\u001b[0;34m\u001b[0m\u001b[0m\n\u001b[0;32m----> 3\u001b[0;31m \u001b[0;32mimport\u001b[0m \u001b[0mfilter_data\u001b[0m\u001b[0;34m\u001b[0m\u001b[0m\n\u001b[0m\u001b[1;32m      4\u001b[0m \u001b[0;32mimport\u001b[0m \u001b[0mnumpy\u001b[0m \u001b[0;32mas\u001b[0m \u001b[0mnp\u001b[0m\u001b[0;34m\u001b[0m\u001b[0m\n",
      "\u001b[0;32m~/Desktop/Summer Project/MLModel/RNN/filter_data.py\u001b[0m in \u001b[0;36m<module>\u001b[0;34m()\u001b[0m\n\u001b[1;32m      2\u001b[0m \u001b[0;31m#from sets import Set\u001b[0m\u001b[0;34m\u001b[0m\u001b[0;34m\u001b[0m\u001b[0m\n\u001b[1;32m      3\u001b[0m \u001b[0;32mfrom\u001b[0m \u001b[0mget_device_dict\u001b[0m \u001b[0;32mimport\u001b[0m \u001b[0mget_device_dict\u001b[0m\u001b[0;34m\u001b[0m\u001b[0m\n\u001b[0;32m----> 4\u001b[0;31m \u001b[0;32mfrom\u001b[0m \u001b[0mnoise_removal\u001b[0m \u001b[0;32mimport\u001b[0m \u001b[0mget_static_set\u001b[0m\u001b[0;34m\u001b[0m\u001b[0m\n\u001b[0m\u001b[1;32m      5\u001b[0m \u001b[0;32mfrom\u001b[0m \u001b[0mpathlib2\u001b[0m \u001b[0;32mimport\u001b[0m \u001b[0mPath\u001b[0m\u001b[0;34m\u001b[0m\u001b[0m\n\u001b[1;32m      6\u001b[0m \u001b[0;34m\u001b[0m\u001b[0m\n",
      "\u001b[0;32m~/Desktop/Summer Project/MLModel/RNN/noise_removal.py\u001b[0m in \u001b[0;36m<module>\u001b[0;34m()\u001b[0m\n\u001b[0;32m----> 1\u001b[0;31m \u001b[0;32mfrom\u001b[0m \u001b[0msets\u001b[0m \u001b[0;32mimport\u001b[0m \u001b[0mSet\u001b[0m\u001b[0;34m\u001b[0m\u001b[0m\n\u001b[0m\u001b[1;32m      2\u001b[0m \u001b[0;34m\u001b[0m\u001b[0m\n\u001b[1;32m      3\u001b[0m \u001b[0;32mdef\u001b[0m \u001b[0mget_static_set\u001b[0m\u001b[0;34m(\u001b[0m\u001b[0mdevice_dict\u001b[0m\u001b[0;34m)\u001b[0m\u001b[0;34m:\u001b[0m\u001b[0;34m\u001b[0m\u001b[0m\n\u001b[1;32m      4\u001b[0m     \"\"\"\n\u001b[1;32m      5\u001b[0m         \u001b[0mremove\u001b[0m \u001b[0mstatic\u001b[0m \u001b[0msome\u001b[0m \u001b[0mstatic\u001b[0m \u001b[0mdevice\u001b[0m \u001b[0mwhich\u001b[0m \u001b[0malways\u001b[0m \u001b[0mappears\u001b[0m \u001b[0;32min\u001b[0m \u001b[0mthe\u001b[0m \u001b[0mrecord\u001b[0m\u001b[0;34m\u001b[0m\u001b[0m\n",
      "\u001b[0;31mImportError\u001b[0m: cannot import name 'Set'"
     ]
    }
   ],
   "source": [
    "import datetime\n",
    "import Recover\n",
    "import filter_data\n",
    "import numpy as np"
   ]
  },
  {
   "cell_type": "markdown",
   "metadata": {},
   "source": [
    "### Data Recovery  {1, 2, 3, 4, 5, 6, 7, 8, 9, 12, 13} 11"
   ]
  },
  {
   "cell_type": "code",
   "execution_count": 60,
   "metadata": {
    "collapsed": true
   },
   "outputs": [],
   "source": [
    "node = [1,2,3,4,5,6,7,8,9,12,13]\n",
    "start = datetime.datetime.strptime(\"2018-08-27\", \"%Y-%m-%d\")\n",
    "end = datetime.datetime.strptime(\"2018-10-03\", \"%Y-%m-%d\")\n",
    "date_generated = [start + datetime.timedelta(days=x) for x in range(0, (end-start).days)]\n",
    "# for date in date_generated:\n",
    "#      Recover.re(str(date)[0:10])"
   ]
  },
  {
   "cell_type": "markdown",
   "metadata": {},
   "source": [
    "### Basic Noise Removal"
   ]
  },
  {
   "cell_type": "code",
   "execution_count": 56,
   "metadata": {
    "collapsed": true
   },
   "outputs": [],
   "source": [
    "for date in date_generated:\n",
    "    filter_data.main(str(date)[0:10])"
   ]
  },
  {
   "cell_type": "code",
   "execution_count": 125,
   "metadata": {
    "collapsed": true
   },
   "outputs": [],
   "source": [
    "def data_single_day(date, node):\n",
    "    path = '/Users/zhengkaizhang/Desktop/data_processing/graph/' + date + '/'\n",
    "    population = []\n",
    "    for n in node:\n",
    "        single = []\n",
    "        f_path = path + 'n' + str(n) + '_' + date + '_c.txt'\n",
    "        with open(f_path) as f:\n",
    "            count = 0\n",
    "            pop = 0\n",
    "            for line in f.readlines():\n",
    "                arr = line.split(' ')\n",
    "                if arr[0] == '*':\n",
    "                    count += 1\n",
    "                    if count < 360:\n",
    "                        continue\n",
    "                    else:\n",
    "                        single.append(int(pop / count))\n",
    "                        count = 0\n",
    "                        pop = 0\n",
    "                else:\n",
    "                    pop += 1\n",
    "\n",
    "            single.append(pop / count)\n",
    "        population.append(np.array(single))\n",
    "\n",
    "    np.save('./data/' + date + '.npy', population)\n",
    "\n",
    "def all_data(date_list, node):\n",
    "    for date in date_list:\n",
    "        print(str(date)[:10])\n",
    "        data_single_day(str(date)[:10], node)\n",
    "    print(\"Finish!\")\n",
    "    \n",
    "def concatenate(date_list, node):\n",
    "    data = []\n",
    "    for date in date_list:\n",
    "        if str(date)[:10] == \"2018-09-28\":\n",
    "            continue\n",
    "        if date.weekday() >= 5:\n",
    "            continue\n",
    "        tmp = np.load(\"./data/\" + str(date)[:10] + '.npy')\n",
    "        data.append(tmp.reshape(24, len(node)))\n",
    "    return np.array(data)"
   ]
  },
  {
   "cell_type": "markdown",
   "metadata": {},
   "source": [
    "### generate data"
   ]
  },
  {
   "cell_type": "code",
   "execution_count": 128,
   "metadata": {
    "collapsed": true
   },
   "outputs": [],
   "source": [
    "all_data(date_list=date_generated, node=node)"
   ]
  },
  {
   "cell_type": "code",
   "execution_count": 126,
   "metadata": {
    "collapsed": true
   },
   "outputs": [],
   "source": [
    "data = concatenate(date_list=date_generated, node=node)"
   ]
  }
 ],
 "metadata": {
  "kernelspec": {
   "display_name": "Python 3",
   "language": "python",
   "name": "python3"
  },
  "language_info": {
   "codemirror_mode": {
    "name": "ipython",
    "version": 3
   },
   "file_extension": ".py",
   "mimetype": "text/x-python",
   "name": "python",
   "nbconvert_exporter": "python",
   "pygments_lexer": "ipython3",
   "version": "3.5.4"
  }
 },
 "nbformat": 4,
 "nbformat_minor": 2
}
